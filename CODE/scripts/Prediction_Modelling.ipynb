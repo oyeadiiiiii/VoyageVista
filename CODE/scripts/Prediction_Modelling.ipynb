{
 "cells": [
  {
   "cell_type": "code",
   "execution_count": 41,
   "id": "98dcc0cb",
   "metadata": {},
   "outputs": [],
   "source": [
    "import pandas as pd\n",
    "from sklearn.model_selection import train_test_split\n",
    "from sklearn.linear_model import LogisticRegression\n",
    "from sklearn.tree import DecisionTreeClassifier\n",
    "from sklearn.ensemble import RandomForestClassifier\n",
    "from sklearn.metrics import accuracy_score, classification_report\n",
    "import joblib\n",
    "from tqdm import tqdm\n",
    "import matplotlib.pyplot as plt\n",
    "import numpy as np\n",
    "\n",
    "import os\n",
    "os.chdir(r\"D:\\PROJECTS\\VoyageVista\\CODE\")\n"
   ]
  },
  {
   "cell_type": "code",
   "execution_count": 42,
   "id": "22b79d12",
   "metadata": {},
   "outputs": [
    {
     "name": "stderr",
     "output_type": "stream",
     "text": [
      "<>:1: SyntaxWarning: invalid escape sequence '\\P'\n",
      "<>:2: SyntaxWarning: invalid escape sequence '\\P'\n",
      "<>:1: SyntaxWarning: invalid escape sequence '\\P'\n",
      "<>:2: SyntaxWarning: invalid escape sequence '\\P'\n",
      "C:\\Users\\1812a\\AppData\\Local\\Temp\\ipykernel_13404\\895080917.py:1: SyntaxWarning: invalid escape sequence '\\P'\n",
      "  x = pd.read_csv(\"D:\\PROJECTS\\VoyageVista\\CODE\\data/x_preprocessed.csv\")\n",
      "C:\\Users\\1812a\\AppData\\Local\\Temp\\ipykernel_13404\\895080917.py:2: SyntaxWarning: invalid escape sequence '\\P'\n",
      "  y = pd.read_csv(\"D:\\PROJECTS\\VoyageVista\\CODE\\data/y_preprocessed.csv\")\n"
     ]
    }
   ],
   "source": [
    "x = pd.read_csv(\"D:\\PROJECTS\\VoyageVista\\CODE\\data/x_preprocessed.csv\")\n",
    "y = pd.read_csv(\"D:\\PROJECTS\\VoyageVista\\CODE\\data/y_preprocessed.csv\")"
   ]
  },
  {
   "cell_type": "code",
   "execution_count": 43,
   "id": "c4c6c2ac",
   "metadata": {},
   "outputs": [],
   "source": [
    "x_train, x_test, y_train, y_test = train_test_split(x, y, test_size=0.25, random_state=42)"
   ]
  },
  {
   "cell_type": "code",
   "execution_count": 44,
   "id": "1ac7da35",
   "metadata": {},
   "outputs": [],
   "source": [
    "def save_model(model, filename):\n",
    "    joblib.dump(model, filename)\n",
    "    print(f\"Model saved as {filename}\")"
   ]
  },
  {
   "cell_type": "code",
   "execution_count": 45,
   "id": "85c66166",
   "metadata": {},
   "outputs": [
    {
     "name": "stdout",
     "output_type": "stream",
     "text": [
      "\n",
      "Training Logistic Regression...\n"
     ]
    },
    {
     "name": "stderr",
     "output_type": "stream",
     "text": [
      "Logistic Regression: 100%|██████████| 100/100 [00:05<00:00, 18.28it/s]\n"
     ]
    },
    {
     "name": "stdout",
     "output_type": "stream",
     "text": [
      "Model saved as logistic_regression_model.joblib\n",
      "Logistic Regression Accuracy: 0.3941786873397511\n",
      "              precision    recall  f1-score   support\n",
      "\n",
      "           0       0.98      0.38      0.55    704477\n",
      "           1       0.04      0.71      0.07     23297\n",
      "\n",
      "    accuracy                           0.39    727774\n",
      "   macro avg       0.51      0.54      0.31    727774\n",
      "weighted avg       0.95      0.39      0.54    727774\n",
      "\n"
     ]
    }
   ],
   "source": [
    "from sklearn.linear_model import LogisticRegression\n",
    "from sklearn.metrics import accuracy_score, classification_report\n",
    "from tqdm import tqdm\n",
    "\n",
    "print(\"\\nTraining Logistic Regression...\")\n",
    "\n",
    "# Make sure y_train has only 0 and 1\n",
    "with tqdm(total=100, desc=\"Logistic Regression\") as pbar:\n",
    "    LogReg = LogisticRegression(max_iter=1000, class_weight=\"balanced\")\n",
    "    LogReg.fit(x_train, y_train.values.ravel())\n",
    "    pbar.update(100)\n",
    "\n",
    "y_pred_lr = LogReg.predict(x_test)\n",
    "\n",
    "# Save model\n",
    "import joblib\n",
    "joblib.dump(LogReg, \"logistic_regression_model.joblib\")\n",
    "print(\"Model saved as logistic_regression_model.joblib\")\n",
    "\n",
    "# Evaluate\n",
    "print(\"Logistic Regression Accuracy:\", accuracy_score(y_test, y_pred_lr))\n",
    "print(classification_report(y_test, y_pred_lr, zero_division=0))\n"
   ]
  },
  {
   "cell_type": "code",
   "execution_count": 46,
   "id": "e9038a10",
   "metadata": {},
   "outputs": [
    {
     "name": "stdout",
     "output_type": "stream",
     "text": [
      "\n",
      "Training Decision Tree...\n"
     ]
    },
    {
     "name": "stderr",
     "output_type": "stream",
     "text": [
      "Decision Tree: 100%|██████████| 100/100 [00:06<00:00, 14.46it/s]\n"
     ]
    },
    {
     "name": "stdout",
     "output_type": "stream",
     "text": [
      "Model saved as decision_tree_model.joblib\n",
      "Decision Tree Accuracy: 0.9653779882216182\n",
      "              precision    recall  f1-score   support\n",
      "\n",
      "           0       0.97      1.00      0.98    704477\n",
      "           1       0.26      0.04      0.07     23297\n",
      "\n",
      "    accuracy                           0.97    727774\n",
      "   macro avg       0.61      0.52      0.53    727774\n",
      "weighted avg       0.95      0.97      0.95    727774\n",
      "\n"
     ]
    }
   ],
   "source": [
    "print(\"\\nTraining Decision Tree...\")\n",
    "with tqdm(total=100, desc=\"Decision Tree\") as pbar:\n",
    "    model_dt = DecisionTreeClassifier()\n",
    "    model_dt.fit(x_train, y_train)\n",
    "    pbar.update(100)\n",
    "\n",
    "y_pred_dt = model_dt.predict(x_test)\n",
    "save_model(model_dt, \"decision_tree_model.joblib\")\n",
    "print(\"Decision Tree Accuracy:\", accuracy_score(y_test, y_pred_dt))\n",
    "print(classification_report(y_test, y_pred_dt))\n"
   ]
  },
  {
   "cell_type": "code",
   "execution_count": 47,
   "id": "fb47656c",
   "metadata": {},
   "outputs": [
    {
     "name": "stdout",
     "output_type": "stream",
     "text": [
      "\n",
      "Training Random Forest...\n"
     ]
    },
    {
     "name": "stderr",
     "output_type": "stream",
     "text": [
      "Random Forest: 100%|██████████| 100/100 [06:50<00:00,  4.10s/it]\n"
     ]
    },
    {
     "name": "stdout",
     "output_type": "stream",
     "text": [
      "Model saved as random_forest_model.joblib\n",
      "Random Forest Accuracy: 0.9649506577591395\n",
      "              precision    recall  f1-score   support\n",
      "\n",
      "           0       0.97      1.00      0.98    704477\n",
      "           1       0.26      0.05      0.08     23297\n",
      "\n",
      "    accuracy                           0.96    727774\n",
      "   macro avg       0.61      0.52      0.53    727774\n",
      "weighted avg       0.95      0.96      0.95    727774\n",
      "\n"
     ]
    }
   ],
   "source": [
    "print(\"\\nTraining Random Forest...\")\n",
    "with tqdm(total=100, desc=\"Random Forest\") as pbar:\n",
    "    rf = RandomForestClassifier(n_estimators=100, random_state=42)\n",
    "    rf.fit(x_train, y_train.values.ravel())\n",
    "    pbar.update(100)\n",
    "\n",
    "y_pred_rf = rf.predict(x_test)\n",
    "save_model(rf, \"random_forest_model.joblib\")\n",
    "print(\"Random Forest Accuracy:\", accuracy_score(y_test, y_pred_rf))\n",
    "print(classification_report(y_test, y_pred_rf))\n"
   ]
  },
  {
   "cell_type": "code",
   "execution_count": 48,
   "id": "bd3c2d98",
   "metadata": {},
   "outputs": [
    {
     "data": {
      "image/png": "[encoded data removed]",
      "text/plain": [
       "<Figure size 1000x600 with 1 Axes>"
      ]
     },
     "metadata": {},
     "output_type": "display_data"
    },
    {
     "name": "stdout",
     "output_type": "stream",
     "text": [
      "Best Model: Decision Tree with Accuracy: 0.9653779882216182\n"
     ]
    }
   ],
   "source": [
    "# Store the accuracies of the models\n",
    "model_accuracies = {\n",
    "    \"Logistic Regression\": accuracy_score(y_test, y_pred_lr),\n",
    "    \"Decision Tree\": accuracy_score(y_test, y_pred_dt),\n",
    "    \"Random Forest\": accuracy_score(y_test, y_pred_rf)\n",
    "}\n",
    "\n",
    "# Find the model with the highest accuracy\n",
    "best_model = max(model_accuracies, key=model_accuracies.get)\n",
    "best_accuracy = model_accuracies[best_model]\n",
    "\n",
    "# Plot the accuracies\n",
    "plt.figure(figsize=(10, 6))\n",
    "plt.bar(model_accuracies.keys(), model_accuracies.values(), color=[\"skyblue\", \"orange\", \"green\"])\n",
    "plt.title(\"Model Accuracies\", fontsize=16)\n",
    "plt.ylabel(\"Accuracy\", fontsize=14)\n",
    "plt.xlabel(\"Models\", fontsize=14)\n",
    "plt.ylim(0, 1)  # Accuracy ranges between 0 and 1\n",
    "plt.xticks(fontsize=12)\n",
    "plt.yticks(fontsize=12)\n",
    "\n",
    "# Highlight the best model\n",
    "for i, (model, acc) in enumerate(model_accuracies.items()):\n",
    "    plt.text(i, acc, f\"{acc:}\", ha='center', fontsize=12)\n",
    "\n",
    "\n",
    "plt.show()\n",
    "\n",
    "# Print the best model and its accuracy\n",
    "print(f\"Best Model: {best_model} with Accuracy: {best_accuracy:}\")\n"
   ]
  },
  {
   "cell_type": "markdown",
   "id": "ad2a2aa7",
   "metadata": {},
   "source": [
    "WE WILL USE DECISION TREE FOR OUR PROJECT"
   ]
  }
 ],
 "metadata": {
  "kernelspec": {
   "display_name": "Python 3",
   "language": "python",
   "name": "python3"
  },
  "language_info": {
   "codemirror_mode": {
    "name": "ipython",
    "version": 3
   },
   "file_extension": ".py",
   "mimetype": "text/x-python",
   "name": "python",
   "nbconvert_exporter": "python",
   "pygments_lexer": "ipython3",
   "version": "3.12.4"
  }
 },
 "nbformat": 4,
 "nbformat_minor": 5
}
